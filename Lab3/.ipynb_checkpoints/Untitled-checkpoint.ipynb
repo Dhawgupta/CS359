{
 "cells": [
  {
   "cell_type": "code",
   "execution_count": null,
   "metadata": {},
   "outputs": [
    {
     "name": "stdout",
     "output_type": "stream",
     "text": [
      "Serving HTTP on port 8002 ... \n",
      "GET /hello HTTP/1.1\n",
      "Host: localhost:8002\n",
      "User-Agent: Mozilla/5.0 (X11; Ubuntu; Linux x86_64; rv:58.0) Gecko/20100101 Firefox/58.0\n",
      "Accept: text/html,application/xhtml+xml,application/xml;q=0.9,*/*;q=0.8\n",
      "Accept-Language: en-US,en;q=0.5\n",
      "Accept-Encoding: gzip, deflate\n",
      "Cookie: _xsrf=2|82e02cc8|4b00f7653c950818f9edcbf056e62e80|1516808650; username-localhost-8888=\"2|1:0|10:1516962202|23:username-localhost-8888|44:MmRjNDk3MmRmM2QzNDg3YWE3NGRmOGYzYmQyODI3MjM=|b0223fe7da9218ba2802184a7c7e96fa7a85ee05c17011641d22a70a2215aceb\"\n",
      "Connection: keep-alive\n",
      "Upgrade-Insecure-Requests: 1\n",
      "\n",
      "\n",
      "GET /favicon.ico HTTP/1.1\n",
      "Host: localhost:8002\n",
      "User-Agent: Mozilla/5.0 (X11; Ubuntu; Linux x86_64; rv:58.0) Gecko/20100101 Firefox/58.0\n",
      "Accept: text/html,application/xhtml+xml,application/xml;q=0.9,*/*;q=0.8\n",
      "Accept-Language: en-US,en;q=0.5\n",
      "Accept-Encoding: gzip, deflate\n",
      "Cookie: _xsrf=2|82e02cc8|4b00f7653c950818f9edcbf056e62e80|1516808650; username-localhost-8888=\"2|1:0|10:1516962202|23:username-localhost-8888|44:MmRjNDk3MmRmM2QzNDg3YWE3NGRmOGYzYmQyODI3MjM=|b0223fe7da9218ba2802184a7c7e96fa7a85ee05c17011641d22a70a2215aceb\"\n",
      "Connection: keep-alive\n",
      "\n",
      "\n"
     ]
    }
   ],
   "source": [
    "import socket\n",
    "\n",
    "HOST, PORT = '',8002\n",
    "\n",
    "listen_socket = socket.socket(socket.AF_INET, socket.SOCK_STREAM)\n",
    "listen_socket.setsockopt(socket.SOL_SOCKET, socket.SO_REUSEADDR, 1)\n",
    "listen_socket.bind((HOST,PORT))\n",
    "listen_socket.listen(1)\n",
    "\n",
    "print \"Serving HTTP on port %s ... \" %PORT\n",
    "while True:\n",
    "    client_connection,client_address = listen_socket.accept()\n",
    "    request = client_connection.recv(1024)\n",
    "    print request\n",
    "    http_response = \"\"\"\\\n",
    "HTTP/1.1 200 OK\n",
    "\n",
    "<html>\n",
    "<!-- Text between angle brackets is an HTML tag and is not displayed.\n",
    "Most tags, such as the HTML and /HTML tags that surround the contents of\n",
    "a page, come in pairs; some tags, like HR, for a horizontal rule, stand \n",
    "alone. Comments, such as the text you're reading, are not displayed when\n",
    "the Web page is shown. The information between the HEAD and /HEAD tags is \n",
    "not displQayed. The information between the BODY and /BODY tags is displayed.-->\n",
    "<head>\n",
    "<title>Enter a title, displayed at the top of the window.</title>\n",
    "</head>\n",
    "<!-- The information between the BODY and /BODY tags is displayed.-->\n",
    "<body>\n",
    "<h1>Enter the main heading, usually the same as the title.</h1>\n",
    "<p>Be <b>bold</b> in stating your key points. Put them in a list: </p>\n",
    "<ul>\n",
    "<li>The first item in your list</li>\n",
    "<li>The second item; <i>italicize</i> key words</li>\n",
    "</ul>\n",
    "<p>Improve your image by including an image. </p>\n",
    "<p><img src=\"http://www.mygifs.com/CoverImage.gif\" alt=\"A Great HTML Resource\"></p>\n",
    "<p>Add a link to your favorite <a href=\"http://www.dummies.com/\">Web site</a>.\n",
    "Break up your page with a horizontal rule or two. </p>\n",
    "<hr>\n",
    "<p>Finally, link to <a href=\"page2.html\">another page</a> in your own Web site.</p>\n",
    "<!-- And add a copyright notice.-->\n",
    "<p>&#169; Wiley Publishing, 2011</p>\n",
    "</body>\n",
    "</html>\n",
    "\"\"\"\n",
    "    client_connection.sendall(http_response)\n",
    "    client_connection.close()\n",
    "    "
   ]
  },
  {
   "cell_type": "code",
   "execution_count": null,
   "metadata": {
    "collapsed": true
   },
   "outputs": [],
   "source": [
    "import socket\n",
    "\n",
    "HOST, PORT = '',8002\n",
    "\n",
    "listen_socket = socket.socket(socket.AF_INET, socket.SOCK_STREAM)\n",
    "listen_socket.setsockopt(socket.SOL_SOCKET, socket.SO_REUSEADDR, 1)\n",
    "listen_socket.bind((HOST,PORT))\n",
    "listen_socket.listen(1)\n",
    "\n",
    "print \"Serving HTTP on port %s ... \" %PORT\n",
    "while True:\n",
    "    client_connection,client_address = listen_socket.accept()\n",
    "    request = client_connection.recv(1024)\n",
    "    print request\n",
    "    http_response = \"\"\"\\\n",
    "HTTP/1.1 200 OK\n",
    "\n",
    "Hello World\n",
    "\"\"\"\n",
    "    client_connection.sendall(http_response)\n",
    "    client_connection.close()\n",
    "    "
   ]
  },
  {
   "cell_type": "code",
   "execution_count": null,
   "metadata": {
    "collapsed": true
   },
   "outputs": [],
   "source": []
  },
  {
   "cell_type": "code",
   "execution_count": null,
   "metadata": {
    "collapsed": true
   },
   "outputs": [],
   "source": []
  },
  {
   "cell_type": "code",
   "execution_count": null,
   "metadata": {
    "collapsed": true
   },
   "outputs": [],
   "source": []
  }
 ],
 "metadata": {
  "kernelspec": {
   "display_name": "Python 2",
   "language": "python",
   "name": "python2"
  },
  "language_info": {
   "codemirror_mode": {
    "name": "ipython",
    "version": 2
   },
   "file_extension": ".py",
   "mimetype": "text/x-python",
   "name": "python",
   "nbconvert_exporter": "python",
   "pygments_lexer": "ipython2",
   "version": "2.7.12"
  }
 },
 "nbformat": 4,
 "nbformat_minor": 2
}
